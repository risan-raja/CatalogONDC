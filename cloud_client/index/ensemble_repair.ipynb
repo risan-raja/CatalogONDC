{
 "cells": [
  {
   "cell_type": "code",
   "execution_count": 3,
   "metadata": {},
   "outputs": [
    {
     "name": "stdout",
     "output_type": "stream",
     "text": [
      "(3, 2, 512)\n"
     ]
    }
   ],
   "source": [
    "from qdrant_client import QdrantClient\n",
    "from ensemble_client import DocEmbeddingClient, QueryEmbeddingClient\n",
    "from pymongo import MongoClient\n",
    "MAX_BATCH_SIZE = 3\n",
    "\n",
    "# Sanity check\n",
    "\n",
    "model=DocEmbeddingClient(\"mixedDocEmbed\")\n",
    "mongodb = MongoClient(\"mongodb://localhost:27017/\")\n",
    "\n",
    "# Get the database\n",
    "db = mongodb[\"catalogStore\"]['doc_text']\n",
    "\n",
    "batch = []\n",
    "for doc in db.find():\n",
    "    if len(batch) < MAX_BATCH_SIZE:\n",
    "        batch.append(doc['text'])\n",
    "    else:\n",
    "        output=model.embed(batch)\n",
    "        batch = []\n",
    "        break\n"
   ]
  },
  {
   "cell_type": "code",
   "execution_count": 8,
   "metadata": {},
   "outputs": [
    {
     "data": {
      "text/plain": [
       "array([[0., 0., 0., ..., 0., 0., 0.],\n",
       "       [0., 0., 0., ..., 0., 0., 0.]], dtype=float32)"
      ]
     },
     "execution_count": 8,
     "metadata": {},
     "output_type": "execute_result"
    }
   ],
   "source": [
    "output['sparse'][2]"
   ]
  }
 ],
 "metadata": {
  "kernelspec": {
   "display_name": ".venv",
   "language": "python",
   "name": "python3"
  },
  "language_info": {
   "codemirror_mode": {
    "name": "ipython",
    "version": 3
   },
   "file_extension": ".py",
   "mimetype": "text/x-python",
   "name": "python",
   "nbconvert_exporter": "python",
   "pygments_lexer": "ipython3",
   "version": "3.10.12"
  }
 },
 "nbformat": 4,
 "nbformat_minor": 2
}
