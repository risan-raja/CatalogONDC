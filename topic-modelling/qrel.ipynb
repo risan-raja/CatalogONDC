{
 "cells": [
  {
   "cell_type": "code",
   "execution_count": 2,
   "metadata": {},
   "outputs": [],
   "source": [
    "from qdrant_client import QdrantClient,models\n",
    "from pymongo import MongoClient\n",
    "import polars as pl\n",
    "\n",
    "qclient = QdrantClient(host=\"localhost\",port=6333, prefer_grpc=False)"
   ]
  },
  {
   "cell_type": "code",
   "execution_count": 3,
   "metadata": {},
   "outputs": [],
   "source": [
    "collection_name = \"ondc-query\""
   ]
  },
  {
   "cell_type": "code",
   "execution_count": 9,
   "metadata": {},
   "outputs": [],
   "source": [
    "offset = 0\n",
    "all_points = [] \n",
    "while offset is not None:\n",
    "    points,offset = qclient.scroll(\n",
    "        collection_name=collection_name,\n",
    "        limit=10000,\n",
    "        offset=offset,\n",
    "        with_vectors=False\n",
    "    )\n",
    "    all_points.extend(points)\n",
    "    "
   ]
  },
  {
   "cell_type": "code",
   "execution_count": 10,
   "metadata": {},
   "outputs": [],
   "source": [
    "points = [p.payload for p in all_points]"
   ]
  },
  {
   "cell_type": "code",
   "execution_count": 11,
   "metadata": {},
   "outputs": [],
   "source": [
    "for id,p in zip([z.id for z in all_points],points):\n",
    "    p['id'] = id\n"
   ]
  },
  {
   "cell_type": "code",
   "execution_count": 22,
   "metadata": {},
   "outputs": [],
   "source": [
    "df = pl.DataFrame(points)\n",
    "df_ = pl.DataFrame(points)"
   ]
  },
  {
   "cell_type": "code",
   "execution_count": 23,
   "metadata": {},
   "outputs": [],
   "source": [
    "df = df.select(\n",
    "    pl.col(\"id\"),\n",
    "    pl.col(\"query\").str.to_lowercase().alias(\"query\"),\n",
    "    pl.col(\"product_id\")\n",
    ").group_by(\"query\").agg(pl.col(\"product_id\")).with_columns(\n",
    "    pl.col(\"product_id\").map_elements(lambda s: len(s)).alias(\"p_count\")\n",
    ")\n",
    "\n",
    "df = df.join(df_, on=\"query\",how=\"inner\",).select(pl.col([\"id\",\"query\",\"product_id\",\"p_count\"]))\n"
   ]
  },
  {
   "cell_type": "code",
   "execution_count": 25,
   "metadata": {},
   "outputs": [],
   "source": [
    "del df_"
   ]
  },
  {
   "cell_type": "code",
   "execution_count": 35,
   "metadata": {},
   "outputs": [],
   "source": [
    "# df['p_count'].value_counts().sort(\"count\",descending=True)[:6][\"count\"].plot(kind=\"bar\")\n",
    "df_2 = df.filter(pl.col(\"p_count\")==2)\n",
    "df_3 = df.filter(pl.col(\"p_count\")==3)\n",
    "df_4 = df.filter(pl.col(\"p_count\")==4)"
   ]
  },
  {
   "cell_type": "code",
   "execution_count": 36,
   "metadata": {},
   "outputs": [],
   "source": [
    "# Queries unique to a product\n",
    "df_1 = df.filter(pl.col(\"p_count\")==1)\n",
    "df_1 = df_1.explode(\"product_id\").drop(\"p_count\")\n"
   ]
  },
  {
   "cell_type": "code",
   "execution_count": 68,
   "metadata": {},
   "outputs": [],
   "source": [
    "def get_metric(struct: dict[str,str]):\n",
    "    qid = struct['id']\n",
    "    product_id = struct['product_id']\n",
    "    query_embedding =lambda x: qclient.retrieve(\n",
    "        collection_name=\"ondc-query\",\n",
    "        ids=[x],\n",
    "        with_vectors=True\n",
    "    )[0].vector\n",
    "    qid = 5\n",
    "    product_id = '30141ae1-0d1d-4e83-a6d1-ccf207bca27c'\n",
    "    vectors = query_embedding(qid)\n",
    "    dense = models.NamedVector(name=\"dense\",vector=vectors['dense'])\n",
    "    sparse = models.NamedSparseVector(name=\"sparse\",vector=vectors['sparse'])\n",
    "    sparse_100_req = models.SearchRequest(\n",
    "        vector=sparse,\n",
    "        limit=100\n",
    "    )\n",
    "    dense_100_req = models.SearchRequest(\n",
    "        vector=dense,\n",
    "        limit=100\n",
    "    )\n",
    "    results = qclient.search_batch(\n",
    "        collection_name=\"ondc-index\",\n",
    "        requests= [sparse_100_req,dense_100_req]\n",
    "    )\n",
    "    sparse_100 = results[0]\n",
    "    dense_100 = results[1]\n",
    "    def mrr(result, product_id):\n",
    "        for i,r in enumerate(result):\n",
    "            if r.id == product_id:\n",
    "                return 1/(i+1), r.score\n",
    "        return 0,0\n",
    "    sparse_metric = mrr(result=sparse_100,product_id=product_id)\n",
    "    dense_metric = mrr(result=dense_100,product_id=product_id)\n",
    "    return {\"sparse\":sparse_metric,\"dense\":dense_metric}\n"
   ]
  },
  {
   "cell_type": "code",
   "execution_count": 69,
   "metadata": {},
   "outputs": [],
   "source": [
    "search_mrr = df_1.select([\n",
    "    pl.struct([\"id\", \"product_id\"]).map_elements(get_metric, strategy=\"thread_local\").alias(\"search_score\")\n",
    "])"
   ]
  },
  {
   "cell_type": "code",
   "execution_count": 86,
   "metadata": {},
   "outputs": [
    {
     "data": {
      "text/html": [
       "<div><style>\n",
       ".dataframe > thead > tr,\n",
       ".dataframe > tbody > tr {\n",
       "  text-align: right;\n",
       "  white-space: pre-wrap;\n",
       "}\n",
       "</style>\n",
       "<small>shape: (1, 2)</small><table border=\"1\" class=\"dataframe\"><thead><tr><th>sparse</th><th>count</th></tr><tr><td>f64</td><td>u32</td></tr></thead><tbody><tr><td>28.088713</td><td>12678</td></tr></tbody></table></div>"
      ],
      "text/plain": [
       "shape: (1, 2)\n",
       "┌───────────┬───────┐\n",
       "│ sparse    ┆ count │\n",
       "│ ---       ┆ ---   │\n",
       "│ f64       ┆ u32   │\n",
       "╞═══════════╪═══════╡\n",
       "│ 28.088713 ┆ 12678 │\n",
       "└───────────┴───────┘"
      ]
     },
     "execution_count": 86,
     "metadata": {},
     "output_type": "execute_result"
    }
   ],
   "source": [
    "search_mrr[\"search_score\"].struct.field(\"sparse\").list.slice(1,1).explode().value_counts()"
   ]
  },
  {
   "cell_type": "code",
   "execution_count": 37,
   "metadata": {},
   "outputs": [],
   "source": [
    "df_1.write_parquet(\"qrel_1.parquet\",compression=\"zstd\")"
   ]
  },
  {
   "cell_type": "code",
   "execution_count": 34,
   "metadata": {},
   "outputs": [],
   "source": [
    "qid = df_1[\"query_id\"][0]\n",
    "# qclient.search(\n",
    "#     collection_name=\"ondc-query-gen\",\n",
    "#     query=pl.col(\"query\").filter(pl.col(\"query_id\")==qid).first(),\n",
    "#     limit=10\n",
    "# )"
   ]
  },
  {
   "cell_type": "code",
   "execution_count": null,
   "metadata": {},
   "outputs": [],
   "source": [
    "\n"
   ]
  },
  {
   "cell_type": "code",
   "execution_count": null,
   "metadata": {},
   "outputs": [],
   "source": []
  },
  {
   "cell_type": "code",
   "execution_count": null,
   "metadata": {},
   "outputs": [],
   "source": []
  }
 ],
 "metadata": {
  "kernelspec": {
   "display_name": "splade",
   "language": "python",
   "name": "python3"
  },
  "language_info": {
   "codemirror_mode": {
    "name": "ipython",
    "version": 3
   },
   "file_extension": ".py",
   "mimetype": "text/x-python",
   "name": "python",
   "nbconvert_exporter": "python",
   "pygments_lexer": "ipython3",
   "version": "3.10.13"
  }
 },
 "nbformat": 4,
 "nbformat_minor": 2
}
