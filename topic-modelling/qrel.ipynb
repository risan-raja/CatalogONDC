{
 "cells": [
  {
   "cell_type": "code",
   "execution_count": 36,
   "metadata": {},
   "outputs": [],
   "source": [
    "from qdrant_client import QdrantClient,models\n",
    "from pymongo import MongoClient\n",
    "import polars as pl\n",
    "\n",
    "qclient = QdrantClient(host=\"localhost\",port=6333, prefer_grpc=False)"
   ]
  },
  {
   "cell_type": "code",
   "execution_count": 2,
   "metadata": {},
   "outputs": [],
   "source": [
    "collection_name = \"ondc-query\""
   ]
  },
  {
   "cell_type": "code",
   "execution_count": 3,
   "metadata": {},
   "outputs": [],
   "source": [
    "offset = 1\n",
    "all_points = [] \n",
    "while offset:\n",
    "    points,offset = qclient.scroll(\n",
    "        collection_name=collection_name,\n",
    "        limit=100,\n",
    "        offset=offset,\n",
    "        with_vectors=True\n",
    "    )\n",
    "    all_points.extend(points)\n",
    "    "
   ]
  },
  {
   "cell_type": "code",
   "execution_count": 4,
   "metadata": {},
   "outputs": [],
   "source": [
    "points = [p.payload for p in all_points]"
   ]
  },
  {
   "cell_type": "code",
   "execution_count": 5,
   "metadata": {},
   "outputs": [],
   "source": [
    "df = pl.DataFrame(points)"
   ]
  },
  {
   "cell_type": "code",
   "execution_count": 6,
   "metadata": {},
   "outputs": [],
   "source": [
    "df = df.select(\n",
    "    pl.col(\"query\").str.to_lowercase().alias(\"query\"),\n",
    "    pl.col(\"product_id\")\n",
    ").group_by(\"query\").agg(pl.col(\"product_id\")).with_columns(\n",
    "    pl.col(\"product_id\").map_elements(lambda s: len(s)).alias(\"p_count\")\n",
    ")"
   ]
  },
  {
   "cell_type": "code",
   "execution_count": 7,
   "metadata": {},
   "outputs": [],
   "source": [
    "# df['p_count'].value_counts().sort(\"count\",descending=True)[:6][\"count\"].plot(kind=\"bar\")\n",
    "df_2 = df.filter(pl.col(\"p_count\")==2)\n",
    "df_3 = df.filter(pl.col(\"p_count\")==3)\n",
    "df_4 = df.filter(pl.col(\"p_count\")==4)"
   ]
  },
  {
   "cell_type": "code",
   "execution_count": 9,
   "metadata": {},
   "outputs": [],
   "source": [
    "# Queries unique to a product\n",
    "df_1 = df.filter(pl.col(\"p_count\")==1)\n",
    "df_1 = df_1.explode(\"product_id\").drop(\"p_count\")\n"
   ]
  },
  {
   "cell_type": "code",
   "execution_count": 10,
   "metadata": {},
   "outputs": [],
   "source": [
    "def get_query_id(struct: dict[str,str]):\n",
    "    product_id = struct['product_id']\n",
    "    query = struct['query']\n",
    "    p,o = qclient.scroll(\n",
    "        collection_name=\"ondc-query-gen\",\n",
    "        scroll_filter=models.Filter(\n",
    "            must=[\n",
    "                models.FieldCondition(\n",
    "                    key=\"product_id\",\n",
    "                    match=models.MatchValue(value=product_id)\n",
    "                ),\n",
    "            ]\n",
    "        )\n",
    "    )\n",
    "    # We need the query_id \n",
    "    for _p in p:\n",
    "        if _p.payload[\"query\"].lower() == query:\n",
    "            q_id = _p.id\n",
    "            break\n",
    "    return q_id"
   ]
  },
  {
   "cell_type": "code",
   "execution_count": 11,
   "metadata": {},
   "outputs": [],
   "source": [
    "qid1 = df_1.select([\n",
    "    pl.struct([\"query\", \"product_id\"]).map_elements(get_query_id, strategy=\"thread_local\").alias(\"query_id\")\n",
    "])"
   ]
  },
  {
   "cell_type": "code",
   "execution_count": 31,
   "metadata": {},
   "outputs": [
    {
     "data": {
      "text/plain": [
       "'1a5af65b-b54f-4db1-975c-2e925b58f367'"
      ]
     },
     "execution_count": 31,
     "metadata": {},
     "output_type": "execute_result"
    }
   ],
   "source": [
    "pid = df_1[0]['product_id'][0]\n",
    "q = df_1[0]['query'][0]\n",
    "get_query_id({\"product_id\":pid, \"query\":q})\n",
    "p,o = qclient.scroll(\n",
    "        collection_name=\"ondc-query-gen\",\n",
    "        scroll_filter=models.Filter(\n",
    "            must=[\n",
    "                models.FieldCondition(\n",
    "                    key=\"product_id\",\n",
    "                    match=models.MatchValue(value=pid)\n",
    "                ),\n",
    "            ]\n",
    "        )\n",
    "    )\n",
    "p[0].id"
   ]
  },
  {
   "cell_type": "code",
   "execution_count": 13,
   "metadata": {},
   "outputs": [],
   "source": [
    "df_1 = pl.concat([qid1,df_1],how=\"horizontal\")"
   ]
  },
  {
   "cell_type": "code",
   "execution_count": 15,
   "metadata": {},
   "outputs": [],
   "source": [
    "df_1.write_parquet(\"qrel_1.parquet\",compression=\"zstd\")"
   ]
  },
  {
   "cell_type": "code",
   "execution_count": 34,
   "metadata": {},
   "outputs": [],
   "source": [
    "qid = df_1[\"query_id\"][0]\n",
    "# qclient.search(\n",
    "#     collection_name=\"ondc-query-gen\",\n",
    "#     query=pl.col(\"query\").filter(pl.col(\"query_id\")==qid).first(),\n",
    "#     limit=10\n",
    "# )"
   ]
  },
  {
   "cell_type": "code",
   "execution_count": null,
   "metadata": {},
   "outputs": [],
   "source": [
    "import requests\n",
    "\n",
    "a = requests.post(\n",
    "    url=\"http://localhost:6333/collections/ondc-query-gen/points/recommend\",\n",
    "    json={\n",
    "        \"limit\": 10,\n",
    "        \"positive\": [\"00005bc8-fb19-4806-bcf6-b0ae0fb123a2\"],\n",
    "        \"offset\": 0,\n",
    "        # \"with_payload\": True,\n",
    "        # \"lookup_from\":{\n",
    "        #     \"collection\": \"ondc-index\"\n",
    "        # },\n",
    "        \"with_vector\": False,\n",
    "        # 'with_payload': [\"product_name\"],\n",
    "        \"using\": \"sparse\",\n",
    "    },\n",
    ")\n",
    "a.json()\n"
   ]
  },
  {
   "cell_type": "code",
   "execution_count": 50,
   "metadata": {},
   "outputs": [],
   "source": [
    "import joblib\n",
    "all_points = joblib.load(\"all_points.pkl\")"
   ]
  },
  {
   "cell_type": "code",
   "execution_count": 55,
   "metadata": {},
   "outputs": [],
   "source": [
    "all_points = [models.PointStruct(id=idx, payload=p.payload, vector=p.vector) for idx,p in enumerate(all_points)]"
   ]
  },
  {
   "cell_type": "code",
   "execution_count": 56,
   "metadata": {},
   "outputs": [],
   "source": [
    "qclient.upload_points(\n",
    "    collection_name=\"ondc-query\",\n",
    "    points=all_points\n",
    ")"
   ]
  },
  {
   "cell_type": "code",
   "execution_count": null,
   "metadata": {},
   "outputs": [],
   "source": []
  }
 ],
 "metadata": {
  "kernelspec": {
   "display_name": "splade",
   "language": "python",
   "name": "python3"
  },
  "language_info": {
   "codemirror_mode": {
    "name": "ipython",
    "version": 3
   },
   "file_extension": ".py",
   "mimetype": "text/x-python",
   "name": "python",
   "nbconvert_exporter": "python",
   "pygments_lexer": "ipython3",
   "version": "3.10.13"
  }
 },
 "nbformat": 4,
 "nbformat_minor": 2
}
